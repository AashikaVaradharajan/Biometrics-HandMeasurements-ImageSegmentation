{
 "cells": [
  {
   "cell_type": "code",
   "execution_count": 1,
   "metadata": {},
   "outputs": [],
   "source": [
    "#IMPORT LIBRARIES\n",
    "import numpy as np # our numerical workhorse\n",
    "import matplotlib.pyplot as plt # plotting library\n",
    "import seaborn as sns # extra plotting features\n",
    "import skimage.io "
   ]
  },
  {
   "cell_type": "code",
   "execution_count": 2,
   "metadata": {},
   "outputs": [],
   "source": [
    "#READ THE IMAGE \n",
    "im = skimage.io.imread('HandImages/1.jpeg')"
   ]
  },
  {
   "cell_type": "code",
   "execution_count": 3,
   "metadata": {},
   "outputs": [
    {
     "name": "stdout",
     "output_type": "stream",
     "text": [
      "Using matplotlib backend: Qt5Agg\n"
     ]
    }
   ],
   "source": [
    "#RUNNING MATPLOTLIB IN BACKEND\n",
    "%matplotlib"
   ]
  },
  {
   "cell_type": "code",
   "execution_count": 4,
   "metadata": {},
   "outputs": [
    {
     "data": {
      "text/plain": [
       "[(365.4954163483575, 982.9054349012331),\n",
       " (324.6354359925788, 957.7608316053693),\n",
       " (362.3523409363745, 879.1839463057948),\n",
       " (415.7846229400851, 857.182418421914),\n",
       " (444.0723016479318, 800.6070610062205),\n",
       " (554.0799410673361, 696.8855724107823),\n",
       " (554.0799410673361, 696.8855724107823),\n",
       " (450.35845247189775, 649.7394412310376),\n",
       " (525.7922623594892, 640.3102149950887),\n",
       " (513.2199607115573, 520.8733493397357),\n",
       " (538.3645640074211, 395.1503328604167),\n",
       " (535.2214885954382, 310.2872967368763),\n",
       " (525.7922623594892, 178.2781294335914),\n",
       " (349.7800392884426, 215.99503437738713),\n",
       " (340.35081305249366, 294.57191967696144),\n",
       " (356.06619011240855, 370.0057295645529),\n",
       " (371.78156717232343, 442.29646404016125),\n",
       " (371.78156717232343, 514.5871985157697)]"
      ]
     },
     "execution_count": 4,
     "metadata": {},
     "output_type": "execute_result"
    }
   ],
   "source": [
    "# CHOOSE THE HAND REGIONS AND GET THE COORDINATE VALUES OF THE LOADED IMAGE\n",
    "with sns.axes_style(\"white\"):\n",
    "    plt.imshow(im)\n",
    "clicks_Hand = plt.ginput(60)\n",
    "clicks_Hand"
   ]
  },
  {
   "cell_type": "code",
   "execution_count": 6,
   "metadata": {},
   "outputs": [
    {
     "data": {
      "text/plain": [
       "array([[212., 165., 119.,   1.],\n",
       "       [226., 182., 135.,   1.],\n",
       "       [183., 132.,  87.,   1.],\n",
       "       [165., 113.,  74.,   1.],\n",
       "       [146., 104.,  62.,   1.],\n",
       "       [225., 171., 127.,   1.],\n",
       "       [225., 171., 127.,   1.],\n",
       "       [149.,  93.,  58.,   1.],\n",
       "       [224., 166., 118.,   1.],\n",
       "       [188., 127.,  83.,   1.],\n",
       "       [156.,  96.,  59.,   1.],\n",
       "       [192., 131.,  87.,   1.],\n",
       "       [209., 130.,  87.,   1.],\n",
       "       [194., 116.,  70.,   1.],\n",
       "       [225., 144., 101.,   1.],\n",
       "       [217., 150., 105.,   1.],\n",
       "       [178., 114.,  76.,   1.],\n",
       "       [214., 147., 105.,   1.]])"
      ]
     },
     "execution_count": 6,
     "metadata": {},
     "output_type": "execute_result"
    }
   ],
   "source": [
    "#STORE THE VALUES OF THE COORDINATES IN THE FORM OF RGB VALUES INTO AN ARRAY CALLED HAND_ARR FOR HAND REGIONS OF 1 IMAGE\n",
    "from PIL import Image\n",
    "Hand_final = []\n",
    "img = Image.open('HandImages/1.jpeg')\n",
    "img.show()\n",
    "for index, tuple in enumerate(clicks_Hand):\n",
    "    x = tuple[0]\n",
    "    y = tuple[1]\n",
    "    pvVal = img.getpixel((x,y))\n",
    "    Hand_final.append(pvVal)\n",
    "Hand_arr = np.asarray(Hand_final)\n",
    "leng1 = len(Hand_arr)\n",
    "base1_array_1d = np.ones(leng1)\n",
    "Hand_arr = np.column_stack((Hand_arr, base1_array_1d))\n",
    "Hand_arr"
   ]
  },
  {
   "cell_type": "code",
   "execution_count": 7,
   "metadata": {},
   "outputs": [],
   "source": [
    "#STORE THE VALUES OF THE COORDINATES IN THE FORM OF RGB VALUES INTO AN ARRAY CALLED HAND_ARR FOR HAND REGIONS OF 1 IMAGE\n",
    "with sns.axes_style(\"white\"):\n",
    "    plt.imshow(im)\n",
    "clicks_nonHand = plt.ginput(60)"
   ]
  },
  {
   "cell_type": "code",
   "execution_count": 8,
   "metadata": {},
   "outputs": [
    {
     "name": "stdout",
     "output_type": "stream",
     "text": [
      "[[25. 26. 21.  0.]\n",
      " [26. 27. 21.  0.]\n",
      " [33. 34. 29.  0.]\n",
      " [30. 31. 26.  0.]\n",
      " [30. 31. 26.  0.]\n",
      " [22. 22. 20.  0.]\n",
      " [25. 26. 20.  0.]\n",
      " [26. 27. 22.  0.]\n",
      " [25. 26. 21.  0.]\n",
      " [22. 23. 18.  0.]\n",
      " [13. 13. 11.  0.]\n",
      " [ 4.  4.  4.  0.]\n",
      " [10.  6.  7.  0.]\n",
      " [14. 13. 11.  0.]\n",
      " [21. 21. 19.  0.]\n",
      " [13. 14. 16.  0.]\n",
      " [14. 12. 17.  0.]\n",
      " [14. 14. 22.  0.]\n",
      " [13. 12. 18.  0.]\n",
      " [14. 14. 16.  0.]\n",
      " [12. 11. 17.  0.]\n",
      " [ 9.  8. 13.  0.]\n",
      " [ 9.  8. 13.  0.]\n",
      " [ 8.  8. 10.  0.]\n",
      " [ 9.  9.  9.  0.]\n",
      " [11. 11. 11.  0.]\n",
      " [29. 28. 23.  0.]\n",
      " [29. 28. 23.  0.]\n",
      " [30. 31. 25.  0.]]\n"
     ]
    }
   ],
   "source": [
    "from PIL import Image\n",
    "nonHand_final = []\n",
    "img = Image.open('HandImages/1.jpeg')\n",
    "img.show()\n",
    "for index, tuple in enumerate(clicks_nonHand):\n",
    "    x = tuple[0]\n",
    "    y = tuple[1]\n",
    "    pvVal = img.getpixel((x,y))\n",
    "    nonHand_final.append(pvVal)\n",
    "nonHand_arr = np.asarray(nonHand_final)\n",
    "leng = len(nonHand_arr)\n",
    "base_array_1d = np.zeros(leng)\n",
    "nonHand_arr = np.column_stack((nonHand_arr, base_array_1d)) \n",
    "print(nonHand_arr)\n",
    "#REPEATED THE PROCESS FOR OTHER IMAGES AND STORED THEM IN A CSV TO TRAIN THE SVM CLASSIFIER"
   ]
  },
  {
   "cell_type": "code",
   "execution_count": 9,
   "metadata": {},
   "outputs": [
    {
     "name": "stdout",
     "output_type": "stream",
     "text": [
      "       R   G   B  Class\n",
      "0     34  38  39      0\n",
      "1     34  38  39      0\n",
      "2     34  38  39      0\n",
      "3     34  38  39      0\n",
      "4     34  38  39      0\n",
      "...   ..  ..  ..    ...\n",
      "9995  18  12  16      0\n",
      "9996  16  12  13      0\n",
      "9997  16  12  13      0\n",
      "9998  16  12  13      0\n",
      "9999  17  13  14      0\n",
      "\n",
      "[10000 rows x 4 columns]\n"
     ]
    }
   ],
   "source": [
    "# IMPORTING LIBRARIES\n",
    "import pandas as pd\n",
    "import numpy as np\n",
    "my_sheet = 'Sheet1' \n",
    "file_name = 'Input.csv' \n",
    "\n",
    "# READ THE INPUT CSV AND STORE IN A DATAFRAME\n",
    "cell_df = pd.read_csv(file_name)\n",
    "print(cell_df)"
   ]
  },
  {
   "cell_type": "code",
   "execution_count": 10,
   "metadata": {},
   "outputs": [],
   "source": [
    "cell_df.columns\n",
    "#STORING THE FEATURES AND CLASS IN SEPERATE DATAFRAMES\n",
    "feature_df = cell_df[['R','G','B']]\n",
    "X = np.asarray(feature_df)\n",
    "Y = np.asarray(cell_df['Class'])"
   ]
  },
  {
   "cell_type": "code",
   "execution_count": 11,
   "metadata": {},
   "outputs": [],
   "source": [
    "#USING THE SCIKIT LEARN MODEL - TRAIN TEST SPLIT FUNCTION \n",
    "\n",
    "#Set the value of size to 0.2 to take 20% of data for testing\n",
    "\n",
    "from sklearn.model_selection import train_test_split\n",
    "X_train, X_test, y_train, y_test = train_test_split(X, Y, test_size=0.2, random_state=42)"
   ]
  },
  {
   "cell_type": "code",
   "execution_count": 12,
   "metadata": {},
   "outputs": [
    {
     "data": {
      "text/plain": [
       "array([[178, 136, 111],\n",
       "       [238, 180, 160],\n",
       "       [ 26,  22,  19],\n",
       "       ...,\n",
       "       [197, 162, 134],\n",
       "       [ 39,  43,  44],\n",
       "       [242, 201, 181]], dtype=int64)"
      ]
     },
     "execution_count": 12,
     "metadata": {},
     "output_type": "execute_result"
    }
   ],
   "source": [
    "#USING SVM FROM SKLEARN TO TRAIN THE CLASSIFIER AND PREDICTING THE VALUES\n",
    "#Predicting the labels for the input pixel values\n",
    "from sklearn import svm\n",
    "classifier = svm.SVC(kernel='linear', gamma = 'auto', C=2)\n",
    "classifier.fit(X_train,y_train)\n",
    "y_predict=classifier.predict(X_test)\n",
    "X_test"
   ]
  },
  {
   "cell_type": "code",
   "execution_count": 13,
   "metadata": {},
   "outputs": [
    {
     "name": "stdout",
     "output_type": "stream",
     "text": [
      "              precision    recall  f1-score   support\n",
      "\n",
      "           0       1.00      1.00      1.00      1119\n",
      "           1       1.00      1.00      1.00       881\n",
      "\n",
      "    accuracy                           1.00      2000\n",
      "   macro avg       1.00      1.00      1.00      2000\n",
      "weighted avg       1.00      1.00      1.00      2000\n",
      "\n"
     ]
    }
   ],
   "source": [
    "#Confusion matrix\n",
    "from sklearn.metrics import classification_report\n",
    "print(classification_report(y_test, y_predict))"
   ]
  },
  {
   "cell_type": "code",
   "execution_count": 14,
   "metadata": {},
   "outputs": [
    {
     "data": {
      "text/plain": [
       "array([1, 1, 0, ..., 1, 0, 1], dtype=int64)"
      ]
     },
     "execution_count": 14,
     "metadata": {},
     "output_type": "execute_result"
    }
   ],
   "source": [
    "y_predict"
   ]
  },
  {
   "cell_type": "code",
   "execution_count": 15,
   "metadata": {},
   "outputs": [
    {
     "data": {
      "text/plain": [
       "array([[178, 136, 111,   1],\n",
       "       [238, 180, 160,   1],\n",
       "       [ 26,  22,  19,   0],\n",
       "       ...,\n",
       "       [197, 162, 134,   1],\n",
       "       [ 39,  43,  44,   0],\n",
       "       [242, 201, 181,   1]], dtype=int64)"
      ]
     },
     "execution_count": 15,
     "metadata": {},
     "output_type": "execute_result"
    }
   ],
   "source": [
    "#PREDICTION RESULT - ARRAY OF PIXELS AND LABELS\n",
    "prediction_result = np.column_stack((X_test, y_predict)) \n",
    "prediction_result"
   ]
  },
  {
   "cell_type": "code",
   "execution_count": 16,
   "metadata": {},
   "outputs": [],
   "source": [
    "#TRYING TO PREDICT THE LABELS BY READING A NEW SHEET WITH PIXELS FOR NEW IMAGE\n",
    "from pandas import read_excel\n",
    "my_sheet = 'Sheet1' \n",
    "file_name = 'Test.xlsx' \n",
    "X_Test_df = read_excel(file_name, sheet_name = my_sheet)\n"
   ]
  },
  {
   "cell_type": "code",
   "execution_count": 17,
   "metadata": {},
   "outputs": [],
   "source": [
    "#STORING THE FEATURES IN THE SEPERATE ARRAY\n",
    "Testfeature_df = X_Test_df[['R','G','B']]\n",
    "X_Test_arr = np.asarray(Testfeature_df)\n",
    "y_predict_new=classifier.predict(X_Test_arr)"
   ]
  },
  {
   "cell_type": "code",
   "execution_count": 18,
   "metadata": {},
   "outputs": [
    {
     "data": {
      "text/plain": [
       "(1000, 1000, 3)"
      ]
     },
     "execution_count": 18,
     "metadata": {},
     "output_type": "execute_result"
    }
   ],
   "source": [
    "\n",
    "import cv2\n",
    "from PIL import Image\n",
    "#img = Image.open(\"HandImages/8.jpeg\")\n",
    "#new_size = img.resize((1000, 1000))\n",
    "new_size = cv2.imread('Input_Hand_Images/6.jpg')\n",
    "new_size = cv2.cvtColor(new_size, cv2.COLOR_BGR2RGB)\n",
    "new_size.shape"
   ]
  },
  {
   "cell_type": "code",
   "execution_count": 19,
   "metadata": {},
   "outputs": [
    {
     "data": {
      "text/plain": [
       "True"
      ]
     },
     "execution_count": 19,
     "metadata": {},
     "output_type": "execute_result"
    }
   ],
   "source": [
    "# PRINTING THE SEGMENTED IMAGE\n",
    "X_test_fin = np.uint8(X_Test_arr)\n",
    "Result = X_test_fin[y_predict_new.flatten()]\n",
    "res2 = Result.reshape(new_size.shape)\n",
    "res2 = cv2.cvtColor(res2, cv2.COLOR_BGR2RGB)\n",
    "cv2.imwrite('SVM_segmentedImage.jpg', res2)"
   ]
  },
  {
   "cell_type": "code",
   "execution_count": 20,
   "metadata": {},
   "outputs": [],
   "source": [
    "import matplotlib.pyplot as plt\n",
    "plt.imshow(res2)\n",
    "plt.show()"
   ]
  },
  {
   "cell_type": "code",
   "execution_count": null,
   "metadata": {},
   "outputs": [],
   "source": []
  },
  {
   "cell_type": "code",
   "execution_count": null,
   "metadata": {},
   "outputs": [],
   "source": []
  }
 ],
 "metadata": {
  "kernelspec": {
   "display_name": "Python 3",
   "language": "python",
   "name": "python3"
  },
  "language_info": {
   "codemirror_mode": {
    "name": "ipython",
    "version": 3
   },
   "file_extension": ".py",
   "mimetype": "text/x-python",
   "name": "python",
   "nbconvert_exporter": "python",
   "pygments_lexer": "ipython3",
   "version": "3.8.3"
  }
 },
 "nbformat": 4,
 "nbformat_minor": 4
}
